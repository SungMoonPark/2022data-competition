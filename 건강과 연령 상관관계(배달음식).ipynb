{
 "cells": [
  {
   "cell_type": "code",
   "execution_count": 58,
   "id": "8da72d75",
   "metadata": {},
   "outputs": [],
   "source": [
    "import numpy as np\n",
    "import pandas as pd"
   ]
  },
  {
   "cell_type": "markdown",
   "id": "9a99e611",
   "metadata": {},
   "source": [
    "'20.8 ~ 10월 기준 배달식선호 및 건강관심 성향에 따른' 20.9 ~ 11월 외식업종 소비패턴(외식업종별 소비 건수 합계)\n",
    "\n",
    "※ 배달식선호/건강관심 성향 : 당사가 회원의 소비데이터로 모델링하여 추정한 고객의 특성.\n",
    "\n",
    "   지수를 20 등급화(1등급이 제일 高)"
   ]
  },
  {
   "cell_type": "code",
   "execution_count": 59,
   "id": "9e6522f9",
   "metadata": {},
   "outputs": [],
   "source": [
    "df=pd.read_excel('DATA_SSC_DELIVERY_HEALTH_Free.xlsx')"
   ]
  },
  {
   "cell_type": "code",
   "execution_count": 60,
   "id": "b21b2a48",
   "metadata": {
    "scrolled": true
   },
   "outputs": [
    {
     "name": "stdout",
     "output_type": "stream",
     "text": [
      "<class 'pandas.core.frame.DataFrame'>\n",
      "RangeIndex: 100 entries, 0 to 99\n",
      "Data columns (total 10 columns):\n",
      " #   Column    Non-Null Count  Dtype \n",
      "---  ------    --------------  ----- \n",
      " 0   소비년월      100 non-null    int64 \n",
      " 1   거주지_광역시도  100 non-null    object\n",
      " 2   거주지_시군구   100 non-null    object\n",
      " 3   배달식선호등급   100 non-null    int64 \n",
      " 4   건강관심도등급   100 non-null    int64 \n",
      " 5   연령대       100 non-null    object\n",
      " 6   성별        100 non-null    object\n",
      " 7   외식업종분류    100 non-null    object\n",
      " 8   평일휴일      100 non-null    object\n",
      " 9   소비건수합계    100 non-null    int64 \n",
      "dtypes: int64(4), object(6)\n",
      "memory usage: 7.9+ KB\n"
     ]
    }
   ],
   "source": [
    "df.info()"
   ]
  },
  {
   "cell_type": "code",
   "execution_count": 61,
   "id": "3118ff14",
   "metadata": {},
   "outputs": [
    {
     "data": {
      "text/html": [
       "<div>\n",
       "<style scoped>\n",
       "    .dataframe tbody tr th:only-of-type {\n",
       "        vertical-align: middle;\n",
       "    }\n",
       "\n",
       "    .dataframe tbody tr th {\n",
       "        vertical-align: top;\n",
       "    }\n",
       "\n",
       "    .dataframe thead th {\n",
       "        text-align: right;\n",
       "    }\n",
       "</style>\n",
       "<table border=\"1\" class=\"dataframe\">\n",
       "  <thead>\n",
       "    <tr style=\"text-align: right;\">\n",
       "      <th></th>\n",
       "      <th>소비년월</th>\n",
       "      <th>거주지_광역시도</th>\n",
       "      <th>거주지_시군구</th>\n",
       "      <th>배달식선호등급</th>\n",
       "      <th>건강관심도등급</th>\n",
       "      <th>연령대</th>\n",
       "      <th>성별</th>\n",
       "      <th>외식업종분류</th>\n",
       "      <th>평일휴일</th>\n",
       "      <th>소비건수합계</th>\n",
       "    </tr>\n",
       "  </thead>\n",
       "  <tbody>\n",
       "    <tr>\n",
       "      <th>0</th>\n",
       "      <td>202010</td>\n",
       "      <td>서울</td>\n",
       "      <td>양천구</td>\n",
       "      <td>12</td>\n",
       "      <td>6</td>\n",
       "      <td>40대</td>\n",
       "      <td>남성</td>\n",
       "      <td>한식</td>\n",
       "      <td>휴일</td>\n",
       "      <td>12</td>\n",
       "    </tr>\n",
       "    <tr>\n",
       "      <th>1</th>\n",
       "      <td>202009</td>\n",
       "      <td>서울</td>\n",
       "      <td>강동구</td>\n",
       "      <td>2</td>\n",
       "      <td>20</td>\n",
       "      <td>30대</td>\n",
       "      <td>여성</td>\n",
       "      <td>한식</td>\n",
       "      <td>휴일</td>\n",
       "      <td>40</td>\n",
       "    </tr>\n",
       "    <tr>\n",
       "      <th>2</th>\n",
       "      <td>202009</td>\n",
       "      <td>경기</td>\n",
       "      <td>김포시</td>\n",
       "      <td>10</td>\n",
       "      <td>16</td>\n",
       "      <td>40대</td>\n",
       "      <td>남성</td>\n",
       "      <td>디저트</td>\n",
       "      <td>휴일</td>\n",
       "      <td>49</td>\n",
       "    </tr>\n",
       "    <tr>\n",
       "      <th>3</th>\n",
       "      <td>202010</td>\n",
       "      <td>서울</td>\n",
       "      <td>성북구</td>\n",
       "      <td>1</td>\n",
       "      <td>16</td>\n",
       "      <td>20대</td>\n",
       "      <td>남성</td>\n",
       "      <td>중식</td>\n",
       "      <td>평일</td>\n",
       "      <td>25</td>\n",
       "    </tr>\n",
       "    <tr>\n",
       "      <th>4</th>\n",
       "      <td>202009</td>\n",
       "      <td>서울</td>\n",
       "      <td>송파구</td>\n",
       "      <td>7</td>\n",
       "      <td>15</td>\n",
       "      <td>30대</td>\n",
       "      <td>남성</td>\n",
       "      <td>한식</td>\n",
       "      <td>평일</td>\n",
       "      <td>47</td>\n",
       "    </tr>\n",
       "  </tbody>\n",
       "</table>\n",
       "</div>"
      ],
      "text/plain": [
       "     소비년월 거주지_광역시도 거주지_시군구  배달식선호등급  건강관심도등급  연령대  성별 외식업종분류 평일휴일  소비건수합계\n",
       "0  202010       서울     양천구       12        6  40대  남성     한식   휴일      12\n",
       "1  202009       서울     강동구        2       20  30대  여성     한식   휴일      40\n",
       "2  202009       경기     김포시       10       16  40대  남성    디저트   휴일      49\n",
       "3  202010       서울     성북구        1       16  20대  남성     중식   평일      25\n",
       "4  202009       서울     송파구        7       15  30대  남성     한식   평일      47"
      ]
     },
     "execution_count": 61,
     "metadata": {},
     "output_type": "execute_result"
    }
   ],
   "source": [
    "df.head()"
   ]
  },
  {
   "cell_type": "code",
   "execution_count": 62,
   "id": "1dbbad0a",
   "metadata": {},
   "outputs": [
    {
     "data": {
      "text/plain": [
       "30대      30\n",
       "40대      26\n",
       "50대      20\n",
       "20대      18\n",
       "60대이상     6\n",
       "Name: 연령대, dtype: int64"
      ]
     },
     "execution_count": 62,
     "metadata": {},
     "output_type": "execute_result"
    }
   ],
   "source": [
    "df['연령대'].value_counts()"
   ]
  },
  {
   "cell_type": "code",
   "execution_count": 63,
   "id": "2652c861",
   "metadata": {},
   "outputs": [],
   "source": [
    "ord = {'20대':20,'30대':30,'40대':40,'50대':50, '60대이상':60}\n",
    "df['연령대'] = df.연령대.map(ord)"
   ]
  },
  {
   "cell_type": "code",
   "execution_count": 64,
   "id": "08fb1ae4",
   "metadata": {},
   "outputs": [
    {
     "data": {
      "text/plain": [
       "30    30\n",
       "40    26\n",
       "50    20\n",
       "20    18\n",
       "60     6\n",
       "Name: 연령대, dtype: int64"
      ]
     },
     "execution_count": 64,
     "metadata": {},
     "output_type": "execute_result"
    }
   ],
   "source": [
    "df['연령대'].value_counts()"
   ]
  },
  {
   "cell_type": "code",
   "execution_count": 65,
   "id": "8818a562",
   "metadata": {},
   "outputs": [
    {
     "data": {
      "text/html": [
       "<div>\n",
       "<style scoped>\n",
       "    .dataframe tbody tr th:only-of-type {\n",
       "        vertical-align: middle;\n",
       "    }\n",
       "\n",
       "    .dataframe tbody tr th {\n",
       "        vertical-align: top;\n",
       "    }\n",
       "\n",
       "    .dataframe thead th {\n",
       "        text-align: right;\n",
       "    }\n",
       "</style>\n",
       "<table border=\"1\" class=\"dataframe\">\n",
       "  <thead>\n",
       "    <tr style=\"text-align: right;\">\n",
       "      <th></th>\n",
       "      <th>소비년월</th>\n",
       "      <th>거주지_광역시도</th>\n",
       "      <th>거주지_시군구</th>\n",
       "      <th>배달식선호등급</th>\n",
       "      <th>건강관심도등급</th>\n",
       "      <th>연령대</th>\n",
       "      <th>성별</th>\n",
       "      <th>외식업종분류</th>\n",
       "      <th>평일휴일</th>\n",
       "      <th>소비건수합계</th>\n",
       "    </tr>\n",
       "  </thead>\n",
       "  <tbody>\n",
       "    <tr>\n",
       "      <th>0</th>\n",
       "      <td>202010</td>\n",
       "      <td>서울</td>\n",
       "      <td>양천구</td>\n",
       "      <td>12</td>\n",
       "      <td>6</td>\n",
       "      <td>40</td>\n",
       "      <td>남성</td>\n",
       "      <td>한식</td>\n",
       "      <td>휴일</td>\n",
       "      <td>12</td>\n",
       "    </tr>\n",
       "    <tr>\n",
       "      <th>1</th>\n",
       "      <td>202009</td>\n",
       "      <td>서울</td>\n",
       "      <td>강동구</td>\n",
       "      <td>2</td>\n",
       "      <td>20</td>\n",
       "      <td>30</td>\n",
       "      <td>여성</td>\n",
       "      <td>한식</td>\n",
       "      <td>휴일</td>\n",
       "      <td>40</td>\n",
       "    </tr>\n",
       "    <tr>\n",
       "      <th>2</th>\n",
       "      <td>202009</td>\n",
       "      <td>경기</td>\n",
       "      <td>김포시</td>\n",
       "      <td>10</td>\n",
       "      <td>16</td>\n",
       "      <td>40</td>\n",
       "      <td>남성</td>\n",
       "      <td>디저트</td>\n",
       "      <td>휴일</td>\n",
       "      <td>49</td>\n",
       "    </tr>\n",
       "    <tr>\n",
       "      <th>3</th>\n",
       "      <td>202010</td>\n",
       "      <td>서울</td>\n",
       "      <td>성북구</td>\n",
       "      <td>1</td>\n",
       "      <td>16</td>\n",
       "      <td>20</td>\n",
       "      <td>남성</td>\n",
       "      <td>중식</td>\n",
       "      <td>평일</td>\n",
       "      <td>25</td>\n",
       "    </tr>\n",
       "    <tr>\n",
       "      <th>4</th>\n",
       "      <td>202009</td>\n",
       "      <td>서울</td>\n",
       "      <td>송파구</td>\n",
       "      <td>7</td>\n",
       "      <td>15</td>\n",
       "      <td>30</td>\n",
       "      <td>남성</td>\n",
       "      <td>한식</td>\n",
       "      <td>평일</td>\n",
       "      <td>47</td>\n",
       "    </tr>\n",
       "  </tbody>\n",
       "</table>\n",
       "</div>"
      ],
      "text/plain": [
       "     소비년월 거주지_광역시도 거주지_시군구  배달식선호등급  건강관심도등급  연령대  성별 외식업종분류 평일휴일  소비건수합계\n",
       "0  202010       서울     양천구       12        6   40  남성     한식   휴일      12\n",
       "1  202009       서울     강동구        2       20   30  여성     한식   휴일      40\n",
       "2  202009       경기     김포시       10       16   40  남성    디저트   휴일      49\n",
       "3  202010       서울     성북구        1       16   20  남성     중식   평일      25\n",
       "4  202009       서울     송파구        7       15   30  남성     한식   평일      47"
      ]
     },
     "execution_count": 65,
     "metadata": {},
     "output_type": "execute_result"
    }
   ],
   "source": [
    "df.head()"
   ]
  },
  {
   "cell_type": "code",
   "execution_count": 66,
   "id": "96429d9b",
   "metadata": {},
   "outputs": [
    {
     "name": "stdout",
     "output_type": "stream",
     "text": [
      "<class 'pandas.core.frame.DataFrame'>\n",
      "RangeIndex: 100 entries, 0 to 99\n",
      "Data columns (total 10 columns):\n",
      " #   Column    Non-Null Count  Dtype \n",
      "---  ------    --------------  ----- \n",
      " 0   소비년월      100 non-null    int64 \n",
      " 1   거주지_광역시도  100 non-null    object\n",
      " 2   거주지_시군구   100 non-null    object\n",
      " 3   배달식선호등급   100 non-null    int64 \n",
      " 4   건강관심도등급   100 non-null    int64 \n",
      " 5   연령대       100 non-null    int64 \n",
      " 6   성별        100 non-null    object\n",
      " 7   외식업종분류    100 non-null    object\n",
      " 8   평일휴일      100 non-null    object\n",
      " 9   소비건수합계    100 non-null    int64 \n",
      "dtypes: int64(5), object(5)\n",
      "memory usage: 7.9+ KB\n"
     ]
    }
   ],
   "source": [
    "df.info()"
   ]
  },
  {
   "cell_type": "code",
   "execution_count": 67,
   "id": "fc7c8060",
   "metadata": {
    "scrolled": false
   },
   "outputs": [
    {
     "data": {
      "text/html": [
       "<div>\n",
       "<style scoped>\n",
       "    .dataframe tbody tr th:only-of-type {\n",
       "        vertical-align: middle;\n",
       "    }\n",
       "\n",
       "    .dataframe tbody tr th {\n",
       "        vertical-align: top;\n",
       "    }\n",
       "\n",
       "    .dataframe thead th {\n",
       "        text-align: right;\n",
       "    }\n",
       "</style>\n",
       "<table border=\"1\" class=\"dataframe\">\n",
       "  <thead>\n",
       "    <tr style=\"text-align: right;\">\n",
       "      <th></th>\n",
       "      <th>소비년월</th>\n",
       "      <th>배달식선호등급</th>\n",
       "      <th>건강관심도등급</th>\n",
       "      <th>연령대</th>\n",
       "      <th>소비건수합계</th>\n",
       "    </tr>\n",
       "  </thead>\n",
       "  <tbody>\n",
       "    <tr>\n",
       "      <th>소비년월</th>\n",
       "      <td>1.000000</td>\n",
       "      <td>0.226873</td>\n",
       "      <td>-0.365778</td>\n",
       "      <td>0.285350</td>\n",
       "      <td>-0.000231</td>\n",
       "    </tr>\n",
       "    <tr>\n",
       "      <th>배달식선호등급</th>\n",
       "      <td>0.226873</td>\n",
       "      <td>1.000000</td>\n",
       "      <td>-0.787705</td>\n",
       "      <td>0.849169</td>\n",
       "      <td>-0.287555</td>\n",
       "    </tr>\n",
       "    <tr>\n",
       "      <th>건강관심도등급</th>\n",
       "      <td>-0.365778</td>\n",
       "      <td>-0.787705</td>\n",
       "      <td>1.000000</td>\n",
       "      <td>-0.766592</td>\n",
       "      <td>0.181588</td>\n",
       "    </tr>\n",
       "    <tr>\n",
       "      <th>연령대</th>\n",
       "      <td>0.285350</td>\n",
       "      <td>0.849169</td>\n",
       "      <td>-0.766592</td>\n",
       "      <td>1.000000</td>\n",
       "      <td>-0.325633</td>\n",
       "    </tr>\n",
       "    <tr>\n",
       "      <th>소비건수합계</th>\n",
       "      <td>-0.000231</td>\n",
       "      <td>-0.287555</td>\n",
       "      <td>0.181588</td>\n",
       "      <td>-0.325633</td>\n",
       "      <td>1.000000</td>\n",
       "    </tr>\n",
       "  </tbody>\n",
       "</table>\n",
       "</div>"
      ],
      "text/plain": [
       "             소비년월   배달식선호등급   건강관심도등급       연령대    소비건수합계\n",
       "소비년월     1.000000  0.226873 -0.365778  0.285350 -0.000231\n",
       "배달식선호등급  0.226873  1.000000 -0.787705  0.849169 -0.287555\n",
       "건강관심도등급 -0.365778 -0.787705  1.000000 -0.766592  0.181588\n",
       "연령대      0.285350  0.849169 -0.766592  1.000000 -0.325633\n",
       "소비건수합계  -0.000231 -0.287555  0.181588 -0.325633  1.000000"
      ]
     },
     "execution_count": 67,
     "metadata": {},
     "output_type": "execute_result"
    }
   ],
   "source": [
    "df.corr()"
   ]
  },
  {
   "cell_type": "code",
   "execution_count": 68,
   "id": "6b02f823",
   "metadata": {},
   "outputs": [],
   "source": [
    "import seaborn as sns\n",
    "import matplotlib.pyplot as plt"
   ]
  },
  {
   "cell_type": "code",
   "execution_count": 69,
   "id": "d2d835e4",
   "metadata": {},
   "outputs": [],
   "source": [
    "plt.rcParams['font.family'] = 'Malgun Gothic'"
   ]
  },
  {
   "cell_type": "code",
   "execution_count": 70,
   "id": "99727f62",
   "metadata": {},
   "outputs": [
    {
     "data": {
      "text/plain": [
       "<AxesSubplot:xlabel='건강관심도등급', ylabel='Count'>"
      ]
     },
     "execution_count": 70,
     "metadata": {},
     "output_type": "execute_result"
    },
    {
     "data": {
      "image/png": "[encoded data removed]",
      "text/plain": [
       "<Figure size 432x288 with 1 Axes>"
      ]
     },
     "metadata": {
      "needs_background": "light"
     },
     "output_type": "display_data"
    }
   ],
   "source": [
    "sns.histplot(data = df, x = '건강관심도등급')"
   ]
  },
  {
   "cell_type": "markdown",
   "id": "a04f5171",
   "metadata": {},
   "source": [
    "→ 건강에 관심이 적은 사람이 많음(1등급이 제일 高)"
   ]
  },
  {
   "cell_type": "code",
   "execution_count": 71,
   "id": "1d23f869",
   "metadata": {},
   "outputs": [
    {
     "data": {
      "text/plain": [
       "<AxesSubplot:xlabel='배달식선호등급', ylabel='Count'>"
      ]
     },
     "execution_count": 71,
     "metadata": {},
     "output_type": "execute_result"
    },
    {
     "data": {
      "image/png": "[encoded data removed]",
      "text/plain": [
       "<Figure size 432x288 with 1 Axes>"
      ]
     },
     "metadata": {
      "needs_background": "light"
     },
     "output_type": "display_data"
    }
   ],
   "source": [
    "sns.histplot(data = df, x = '배달식선호등급')"
   ]
  },
  {
   "cell_type": "markdown",
   "id": "4e7e4f5d",
   "metadata": {},
   "source": [
    "→ 배달을 선호하는 사람이 많음"
   ]
  },
  {
   "cell_type": "code",
   "execution_count": 72,
   "id": "ed6c78d2",
   "metadata": {},
   "outputs": [
    {
     "data": {
      "text/plain": [
       "<AxesSubplot:>"
      ]
     },
     "execution_count": 72,
     "metadata": {},
     "output_type": "execute_result"
    },
    {
     "data": {
      "image/png": "[encoded data removed]",
      "text/plain": [
       "<Figure size 1080x720 with 1 Axes>"
      ]
     },
     "metadata": {
      "needs_background": "light"
     },
     "output_type": "display_data"
    }
   ],
   "source": [
    "plt.figure(figsize= (15,10))\n",
    "sns.heatmap(df.corr(),cbar= False,annot = True, cmap= 'Blues')"
   ]
  },
  {
   "cell_type": "markdown",
   "id": "b477b7d5",
   "metadata": {},
   "source": [
    "'건강관심도등급'과 '연령대'는 강한 음의 상관관계를 보인다\\\n",
    "또한 '건강관심도등급'과 '배달식선호등급' 역시 강한 음의 상관관계를 보인다"
   ]
  }
 ],
 "metadata": {
  "kernelspec": {
   "display_name": "Python 3 (ipykernel)",
   "language": "python",
   "name": "python3"
  },
  "language_info": {
   "codemirror_mode": {
    "name": "ipython",
    "version": 3
   },
   "file_extension": ".py",
   "mimetype": "text/x-python",
   "name": "python",
   "nbconvert_exporter": "python",
   "pygments_lexer": "ipython3",
   "version": "3.9.12"
  }
 },
 "nbformat": 4,
 "nbformat_minor": 5
}
