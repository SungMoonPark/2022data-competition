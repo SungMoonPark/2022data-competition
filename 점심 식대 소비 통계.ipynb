{
 "cells": [
  {
   "cell_type": "markdown",
   "id": "faeb0247",
   "metadata": {},
   "source": [
    "식신E식권을 이용하는 직장인들의 점심 식대 소비 통계 데이터\n",
    "\n",
    "포함지역: 서울특별시, 부산광역시, 대구광역시, 인천광역시, 광주광역시, 대전광역시, 경기도, 강원도, 충청북도, 충청남도, 전라남도, 경상북도, 경상남도, 제주특별자치도 \n",
    "\n",
    "추출컬럼: 기준년월, 시도코드, 삼식구분코드, 업종카테고리명(식당), 시도명, 평균사용횟수(소지역 이용 카운트의 평균)"
   ]
  },
  {
   "cell_type": "code",
   "execution_count": 2,
   "id": "573c2f15",
   "metadata": {},
   "outputs": [],
   "source": [
    "import pandas as pd\n",
    "import numpy as np\n",
    "import matplotlib.pyplot as plt\n",
    "import seaborn as sns"
   ]
  },
  {
   "cell_type": "code",
   "execution_count": 3,
   "id": "e4bd5b5b",
   "metadata": {},
   "outputs": [],
   "source": [
    "df = pd.read_csv('SSN00010A_202208.csv',encoding='cp949')"
   ]
  },
  {
   "cell_type": "code",
   "execution_count": 4,
   "id": "d1d117b0",
   "metadata": {
    "scrolled": false
   },
   "outputs": [
    {
     "data": {
      "text/html": [
       "<div>\n",
       "<style scoped>\n",
       "    .dataframe tbody tr th:only-of-type {\n",
       "        vertical-align: middle;\n",
       "    }\n",
       "\n",
       "    .dataframe tbody tr th {\n",
       "        vertical-align: top;\n",
       "    }\n",
       "\n",
       "    .dataframe thead th {\n",
       "        text-align: right;\n",
       "    }\n",
       "</style>\n",
       "<table border=\"1\" class=\"dataframe\">\n",
       "  <thead>\n",
       "    <tr style=\"text-align: right;\">\n",
       "      <th></th>\n",
       "      <th>STD_YM</th>\n",
       "      <th>CTPV_CD</th>\n",
       "      <th>KDML_SP_CD</th>\n",
       "      <th>INDTY_CGR_NM</th>\n",
       "      <th>CTPV_NM</th>\n",
       "      <th>AVG_US_COUT</th>\n",
       "    </tr>\n",
       "  </thead>\n",
       "  <tbody>\n",
       "    <tr>\n",
       "      <th>0</th>\n",
       "      <td>201907</td>\n",
       "      <td>11</td>\n",
       "      <td>1</td>\n",
       "      <td>동남아</td>\n",
       "      <td>서울특별시</td>\n",
       "      <td>216</td>\n",
       "    </tr>\n",
       "    <tr>\n",
       "      <th>1</th>\n",
       "      <td>201907</td>\n",
       "      <td>11</td>\n",
       "      <td>1</td>\n",
       "      <td>분식</td>\n",
       "      <td>서울특별시</td>\n",
       "      <td>485</td>\n",
       "    </tr>\n",
       "    <tr>\n",
       "      <th>2</th>\n",
       "      <td>201907</td>\n",
       "      <td>11</td>\n",
       "      <td>1</td>\n",
       "      <td>양식</td>\n",
       "      <td>서울특별시</td>\n",
       "      <td>198</td>\n",
       "    </tr>\n",
       "    <tr>\n",
       "      <th>3</th>\n",
       "      <td>201907</td>\n",
       "      <td>11</td>\n",
       "      <td>1</td>\n",
       "      <td>일식</td>\n",
       "      <td>서울특별시</td>\n",
       "      <td>565</td>\n",
       "    </tr>\n",
       "    <tr>\n",
       "      <th>4</th>\n",
       "      <td>201907</td>\n",
       "      <td>11</td>\n",
       "      <td>1</td>\n",
       "      <td>중식</td>\n",
       "      <td>서울특별시</td>\n",
       "      <td>558</td>\n",
       "    </tr>\n",
       "  </tbody>\n",
       "</table>\n",
       "</div>"
      ],
      "text/plain": [
       "   STD_YM  CTPV_CD  KDML_SP_CD INDTY_CGR_NM CTPV_NM  AVG_US_COUT\n",
       "0  201907       11           1          동남아   서울특별시          216\n",
       "1  201907       11           1           분식   서울특별시          485\n",
       "2  201907       11           1           양식   서울특별시          198\n",
       "3  201907       11           1           일식   서울특별시          565\n",
       "4  201907       11           1           중식   서울특별시          558"
      ]
     },
     "execution_count": 4,
     "metadata": {},
     "output_type": "execute_result"
    }
   ],
   "source": [
    "df.head()"
   ]
  },
  {
   "cell_type": "code",
   "execution_count": 5,
   "id": "836a7b13",
   "metadata": {},
   "outputs": [
    {
     "name": "stdout",
     "output_type": "stream",
     "text": [
      "<class 'pandas.core.frame.DataFrame'>\n",
      "RangeIndex: 3100 entries, 0 to 3099\n",
      "Data columns (total 6 columns):\n",
      " #   Column        Non-Null Count  Dtype \n",
      "---  ------        --------------  ----- \n",
      " 0   STD_YM        3100 non-null   int64 \n",
      " 1   CTPV_CD       3100 non-null   int64 \n",
      " 2   KDML_SP_CD    3100 non-null   int64 \n",
      " 3   INDTY_CGR_NM  3100 non-null   object\n",
      " 4   CTPV_NM       3100 non-null   object\n",
      " 5   AVG_US_COUT   3100 non-null   int64 \n",
      "dtypes: int64(4), object(2)\n",
      "memory usage: 145.4+ KB\n"
     ]
    }
   ],
   "source": [
    "df.info()"
   ]
  },
  {
   "cell_type": "code",
   "execution_count": 6,
   "id": "417146e9",
   "metadata": {},
   "outputs": [
    {
     "data": {
      "text/plain": [
       "1    3100\n",
       "Name: KDML_SP_CD, dtype: int64"
      ]
     },
     "execution_count": 6,
     "metadata": {},
     "output_type": "execute_result"
    }
   ],
   "source": [
    "df['KDML_SP_CD'].value_counts()"
   ]
  },
  {
   "cell_type": "code",
   "execution_count": 7,
   "id": "138744fb",
   "metadata": {},
   "outputs": [],
   "source": [
    "df = df.drop(['KDML_SP_CD'], axis=1)"
   ]
  },
  {
   "cell_type": "code",
   "execution_count": 8,
   "id": "f84780f1",
   "metadata": {},
   "outputs": [
    {
     "data": {
      "text/html": [
       "<div>\n",
       "<style scoped>\n",
       "    .dataframe tbody tr th:only-of-type {\n",
       "        vertical-align: middle;\n",
       "    }\n",
       "\n",
       "    .dataframe tbody tr th {\n",
       "        vertical-align: top;\n",
       "    }\n",
       "\n",
       "    .dataframe thead th {\n",
       "        text-align: right;\n",
       "    }\n",
       "</style>\n",
       "<table border=\"1\" class=\"dataframe\">\n",
       "  <thead>\n",
       "    <tr style=\"text-align: right;\">\n",
       "      <th></th>\n",
       "      <th>STD_YM</th>\n",
       "      <th>CTPV_CD</th>\n",
       "      <th>INDTY_CGR_NM</th>\n",
       "      <th>CTPV_NM</th>\n",
       "      <th>AVG_US_COUT</th>\n",
       "    </tr>\n",
       "  </thead>\n",
       "  <tbody>\n",
       "    <tr>\n",
       "      <th>0</th>\n",
       "      <td>201907</td>\n",
       "      <td>11</td>\n",
       "      <td>동남아</td>\n",
       "      <td>서울특별시</td>\n",
       "      <td>216</td>\n",
       "    </tr>\n",
       "    <tr>\n",
       "      <th>1</th>\n",
       "      <td>201907</td>\n",
       "      <td>11</td>\n",
       "      <td>분식</td>\n",
       "      <td>서울특별시</td>\n",
       "      <td>485</td>\n",
       "    </tr>\n",
       "    <tr>\n",
       "      <th>2</th>\n",
       "      <td>201907</td>\n",
       "      <td>11</td>\n",
       "      <td>양식</td>\n",
       "      <td>서울특별시</td>\n",
       "      <td>198</td>\n",
       "    </tr>\n",
       "    <tr>\n",
       "      <th>3</th>\n",
       "      <td>201907</td>\n",
       "      <td>11</td>\n",
       "      <td>일식</td>\n",
       "      <td>서울특별시</td>\n",
       "      <td>565</td>\n",
       "    </tr>\n",
       "    <tr>\n",
       "      <th>4</th>\n",
       "      <td>201907</td>\n",
       "      <td>11</td>\n",
       "      <td>중식</td>\n",
       "      <td>서울특별시</td>\n",
       "      <td>558</td>\n",
       "    </tr>\n",
       "  </tbody>\n",
       "</table>\n",
       "</div>"
      ],
      "text/plain": [
       "   STD_YM  CTPV_CD INDTY_CGR_NM CTPV_NM  AVG_US_COUT\n",
       "0  201907       11          동남아   서울특별시          216\n",
       "1  201907       11           분식   서울특별시          485\n",
       "2  201907       11           양식   서울특별시          198\n",
       "3  201907       11           일식   서울특별시          565\n",
       "4  201907       11           중식   서울특별시          558"
      ]
     },
     "execution_count": 8,
     "metadata": {},
     "output_type": "execute_result"
    }
   ],
   "source": [
    "df.head()"
   ]
  },
  {
   "cell_type": "code",
   "execution_count": 9,
   "id": "fca65081",
   "metadata": {},
   "outputs": [
    {
     "data": {
      "text/plain": [
       "11    304\n",
       "26    304\n",
       "41    304\n",
       "28    301\n",
       "30    259\n",
       "44    255\n",
       "27    236\n",
       "42    207\n",
       "29    193\n",
       "48    165\n",
       "43    140\n",
       "46    116\n",
       "50    115\n",
       "47     92\n",
       "31     51\n",
       "36     46\n",
       "45     12\n",
       "Name: CTPV_CD, dtype: int64"
      ]
     },
     "execution_count": 9,
     "metadata": {},
     "output_type": "execute_result"
    }
   ],
   "source": [
    "df['CTPV_CD'].value_counts()"
   ]
  },
  {
   "cell_type": "code",
   "execution_count": 10,
   "id": "7dafa5ca",
   "metadata": {},
   "outputs": [
    {
     "data": {
      "text/plain": [
       "한식          545\n",
       "카페/패스트푸드    510\n",
       "중식          479\n",
       "편의점         376\n",
       "일식          360\n",
       "분식          357\n",
       "양식          317\n",
       "동남아         156\n",
       "Name: INDTY_CGR_NM, dtype: int64"
      ]
     },
     "execution_count": 10,
     "metadata": {},
     "output_type": "execute_result"
    }
   ],
   "source": [
    "df['INDTY_CGR_NM'].value_counts()"
   ]
  },
  {
   "cell_type": "code",
   "execution_count": 11,
   "id": "f396b00d",
   "metadata": {},
   "outputs": [],
   "source": [
    "plt.rcParams['font.family'] = 'Malgun Gothic'"
   ]
  },
  {
   "cell_type": "code",
   "execution_count": 12,
   "id": "0bee6df0",
   "metadata": {},
   "outputs": [
    {
     "data": {
      "text/html": [
       "<div>\n",
       "<style scoped>\n",
       "    .dataframe tbody tr th:only-of-type {\n",
       "        vertical-align: middle;\n",
       "    }\n",
       "\n",
       "    .dataframe tbody tr th {\n",
       "        vertical-align: top;\n",
       "    }\n",
       "\n",
       "    .dataframe thead th {\n",
       "        text-align: right;\n",
       "    }\n",
       "</style>\n",
       "<table border=\"1\" class=\"dataframe\">\n",
       "  <thead>\n",
       "    <tr style=\"text-align: right;\">\n",
       "      <th></th>\n",
       "      <th>mean_ct</th>\n",
       "    </tr>\n",
       "    <tr>\n",
       "      <th>INDTY_CGR_NM</th>\n",
       "      <th></th>\n",
       "    </tr>\n",
       "  </thead>\n",
       "  <tbody>\n",
       "    <tr>\n",
       "      <th>동남아</th>\n",
       "      <td>142.250000</td>\n",
       "    </tr>\n",
       "    <tr>\n",
       "      <th>분식</th>\n",
       "      <td>141.680672</td>\n",
       "    </tr>\n",
       "    <tr>\n",
       "      <th>양식</th>\n",
       "      <td>93.305994</td>\n",
       "    </tr>\n",
       "    <tr>\n",
       "      <th>일식</th>\n",
       "      <td>161.741667</td>\n",
       "    </tr>\n",
       "    <tr>\n",
       "      <th>중식</th>\n",
       "      <td>192.329854</td>\n",
       "    </tr>\n",
       "    <tr>\n",
       "      <th>카페/패스트푸드</th>\n",
       "      <td>496.329412</td>\n",
       "    </tr>\n",
       "    <tr>\n",
       "      <th>편의점</th>\n",
       "      <td>307.946809</td>\n",
       "    </tr>\n",
       "    <tr>\n",
       "      <th>한식</th>\n",
       "      <td>1498.007339</td>\n",
       "    </tr>\n",
       "  </tbody>\n",
       "</table>\n",
       "</div>"
      ],
      "text/plain": [
       "                  mean_ct\n",
       "INDTY_CGR_NM             \n",
       "동남아            142.250000\n",
       "분식             141.680672\n",
       "양식              93.305994\n",
       "일식             161.741667\n",
       "중식             192.329854\n",
       "카페/패스트푸드       496.329412\n",
       "편의점            307.946809\n",
       "한식            1498.007339"
      ]
     },
     "execution_count": 12,
     "metadata": {},
     "output_type": "execute_result"
    }
   ],
   "source": [
    "df_mean_ct =df.groupby('INDTY_CGR_NM').agg(mean_ct = ('AVG_US_COUT', 'mean'))\n",
    "df_mean_ct "
   ]
  },
  {
   "cell_type": "code",
   "execution_count": 13,
   "id": "dd91eadb",
   "metadata": {},
   "outputs": [],
   "source": [
    "menu_list = ['동남아','분식','양식','일식','중식','카페/패스트푸드','편의점','한식']"
   ]
  },
  {
   "cell_type": "code",
   "execution_count": 14,
   "id": "77a9321a",
   "metadata": {},
   "outputs": [],
   "source": [
    "colors = sns.color_palette('hls',len(menu_list))"
   ]
  },
  {
   "cell_type": "code",
   "execution_count": 15,
   "id": "49460dd7",
   "metadata": {},
   "outputs": [
    {
     "data": {
      "image/png": "[encoded data removed]",
      "text/plain": [
       "<Figure size 720x360 with 1 Axes>"
      ]
     },
     "metadata": {
      "needs_background": "light"
     },
     "output_type": "display_data"
    }
   ],
   "source": [
    "plt.figure(figsize=(10,5))\n",
    "sns.barplot(x = menu_list, y= df_mean_ct['mean_ct'])\n",
    "plt.title('업종별 평균사용횟수', size = 20) \n",
    "plt.show()"
   ]
  },
  {
   "cell_type": "code",
   "execution_count": 16,
   "id": "fbd4bba5",
   "metadata": {},
   "outputs": [
    {
     "data": {
      "image/png": "[encoded data removed]",
      "text/plain": [
       "<Figure size 936x576 with 1 Axes>"
      ]
     },
     "metadata": {},
     "output_type": "display_data"
    }
   ],
   "source": [
    "plt.figure(figsize = (13,8))\n",
    "plt.title('업종별 평균 식대소비', size = 20)\n",
    "plt.pie(df_mean_ct['mean_ct'], labels=menu_list, autopct='%.1f%%', shadow = True, textprops = {'fontsize': 12},colors = colors)\n",
    "plt.show()"
   ]
  },
  {
   "cell_type": "markdown",
   "id": "97dfac54",
   "metadata": {},
   "source": [
    "직장인 식권의 약 25%가 카페/패스트푸드와 편의점에 식권을 사용"
   ]
  },
  {
   "cell_type": "code",
   "execution_count": null,
   "id": "f276c579",
   "metadata": {},
   "outputs": [],
   "source": []
  }
 ],
 "metadata": {
  "kernelspec": {
   "display_name": "Python 3 (ipykernel)",
   "language": "python",
   "name": "python3"
  },
  "language_info": {
   "codemirror_mode": {
    "name": "ipython",
    "version": 3
   },
   "file_extension": ".py",
   "mimetype": "text/x-python",
   "name": "python",
   "nbconvert_exporter": "python",
   "pygments_lexer": "ipython3",
   "version": "3.9.12"
  }
 },
 "nbformat": 4,
 "nbformat_minor": 5
}
