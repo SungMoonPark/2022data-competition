{
 "cells": [
  {
   "cell_type": "code",
   "execution_count": 1,
   "id": "dbb7c60a",
   "metadata": {},
   "outputs": [],
   "source": [
    "import numpy as np\n",
    "import pandas as pd\n",
    "import matplotlib.pyplot as plt\n",
    "import seaborn as sns"
   ]
  },
  {
   "cell_type": "code",
   "execution_count": 2,
   "id": "f669d8b3",
   "metadata": {},
   "outputs": [],
   "source": [
    "df= pd.read_csv('음식+업종(한식,일식,+중식,+양식,+패스트푸드점)+카드소비트렌드+데이터_1901_2109.csv', encoding = 'cp949')"
   ]
  },
  {
   "cell_type": "markdown",
   "id": "cf2877c1",
   "metadata": {},
   "source": [
    "기준년도/\n",
    "업종명/\n",
    "성별/\n",
    "연령대구분명/\n",
    "이용 건수/\n",
    "이용 금액\n"
   ]
  },
  {
   "cell_type": "code",
   "execution_count": 5,
   "id": "3561e49a",
   "metadata": {},
   "outputs": [
    {
     "data": {
      "text/html": [
       "<div>\n",
       "<style scoped>\n",
       "    .dataframe tbody tr th:only-of-type {\n",
       "        vertical-align: middle;\n",
       "    }\n",
       "\n",
       "    .dataframe tbody tr th {\n",
       "        vertical-align: top;\n",
       "    }\n",
       "\n",
       "    .dataframe thead th {\n",
       "        text-align: right;\n",
       "    }\n",
       "</style>\n",
       "<table border=\"1\" class=\"dataframe\">\n",
       "  <thead>\n",
       "    <tr style=\"text-align: right;\">\n",
       "      <th></th>\n",
       "      <th>crym</th>\n",
       "      <th>tco_btc_nm</th>\n",
       "      <th>ma_fem_dc</th>\n",
       "      <th>agegrp_dc</th>\n",
       "      <th>tco_btc_u_ct</th>\n",
       "      <th>tco_btc_u_am</th>\n",
       "    </tr>\n",
       "  </thead>\n",
       "  <tbody>\n",
       "    <tr>\n",
       "      <th>0</th>\n",
       "      <td>201901</td>\n",
       "      <td>한식</td>\n",
       "      <td>1</td>\n",
       "      <td>1</td>\n",
       "      <td>7</td>\n",
       "      <td>2.392000e+05</td>\n",
       "    </tr>\n",
       "    <tr>\n",
       "      <th>1</th>\n",
       "      <td>201901</td>\n",
       "      <td>한식</td>\n",
       "      <td>1</td>\n",
       "      <td>10</td>\n",
       "      <td>1618</td>\n",
       "      <td>4.671496e+07</td>\n",
       "    </tr>\n",
       "    <tr>\n",
       "      <th>2</th>\n",
       "      <td>201901</td>\n",
       "      <td>한식</td>\n",
       "      <td>1</td>\n",
       "      <td>20</td>\n",
       "      <td>150194</td>\n",
       "      <td>4.961334e+09</td>\n",
       "    </tr>\n",
       "    <tr>\n",
       "      <th>3</th>\n",
       "      <td>201901</td>\n",
       "      <td>한식</td>\n",
       "      <td>1</td>\n",
       "      <td>30</td>\n",
       "      <td>564787</td>\n",
       "      <td>2.006319e+10</td>\n",
       "    </tr>\n",
       "    <tr>\n",
       "      <th>4</th>\n",
       "      <td>201901</td>\n",
       "      <td>한식</td>\n",
       "      <td>1</td>\n",
       "      <td>40</td>\n",
       "      <td>817438</td>\n",
       "      <td>2.954471e+10</td>\n",
       "    </tr>\n",
       "  </tbody>\n",
       "</table>\n",
       "</div>"
      ],
      "text/plain": [
       "     crym tco_btc_nm  ma_fem_dc  agegrp_dc  tco_btc_u_ct  tco_btc_u_am\n",
       "0  201901         한식          1          1             7  2.392000e+05\n",
       "1  201901         한식          1         10          1618  4.671496e+07\n",
       "2  201901         한식          1         20        150194  4.961334e+09\n",
       "3  201901         한식          1         30        564787  2.006319e+10\n",
       "4  201901         한식          1         40        817438  2.954471e+10"
      ]
     },
     "execution_count": 5,
     "metadata": {},
     "output_type": "execute_result"
    }
   ],
   "source": [
    "df.head()"
   ]
  },
  {
   "cell_type": "code",
   "execution_count": 6,
   "id": "4cdb227a",
   "metadata": {},
   "outputs": [
    {
     "name": "stdout",
     "output_type": "stream",
     "text": [
      "<class 'pandas.core.frame.DataFrame'>\n",
      "RangeIndex: 3781 entries, 0 to 3780\n",
      "Data columns (total 6 columns):\n",
      " #   Column        Non-Null Count  Dtype  \n",
      "---  ------        --------------  -----  \n",
      " 0   crym          3781 non-null   int64  \n",
      " 1   tco_btc_nm    3781 non-null   object \n",
      " 2   ma_fem_dc     3781 non-null   int64  \n",
      " 3   agegrp_dc     3781 non-null   int64  \n",
      " 4   tco_btc_u_ct  3781 non-null   int64  \n",
      " 5   tco_btc_u_am  3781 non-null   float64\n",
      "dtypes: float64(1), int64(4), object(1)\n",
      "memory usage: 177.4+ KB\n"
     ]
    }
   ],
   "source": [
    "df.info()"
   ]
  },
  {
   "cell_type": "code",
   "execution_count": 7,
   "id": "6282a27d",
   "metadata": {},
   "outputs": [
    {
     "data": {
      "text/plain": [
       "한식         659\n",
       "패스트푸드점     644\n",
       "중식         636\n",
       "양식         629\n",
       "일식         612\n",
       "패밀리레스토랑    601\n",
       "Name: tco_btc_nm, dtype: int64"
      ]
     },
     "execution_count": 7,
     "metadata": {},
     "output_type": "execute_result"
    }
   ],
   "source": [
    "df['tco_btc_nm'].value_counts()"
   ]
  },
  {
   "cell_type": "code",
   "execution_count": 48,
   "id": "e7d10fc0",
   "metadata": {},
   "outputs": [
    {
     "data": {
      "text/html": [
       "<div>\n",
       "<style scoped>\n",
       "    .dataframe tbody tr th:only-of-type {\n",
       "        vertical-align: middle;\n",
       "    }\n",
       "\n",
       "    .dataframe tbody tr th {\n",
       "        vertical-align: top;\n",
       "    }\n",
       "\n",
       "    .dataframe thead th {\n",
       "        text-align: right;\n",
       "    }\n",
       "</style>\n",
       "<table border=\"1\" class=\"dataframe\">\n",
       "  <thead>\n",
       "    <tr style=\"text-align: right;\">\n",
       "      <th></th>\n",
       "      <th>sum_ct</th>\n",
       "    </tr>\n",
       "    <tr>\n",
       "      <th>tco_btc_nm</th>\n",
       "      <th></th>\n",
       "    </tr>\n",
       "  </thead>\n",
       "  <tbody>\n",
       "    <tr>\n",
       "      <th>양식</th>\n",
       "      <td>11012773</td>\n",
       "    </tr>\n",
       "    <tr>\n",
       "      <th>일식</th>\n",
       "      <td>12947145</td>\n",
       "    </tr>\n",
       "    <tr>\n",
       "      <th>중식</th>\n",
       "      <td>23211802</td>\n",
       "    </tr>\n",
       "    <tr>\n",
       "      <th>패밀리레스토랑</th>\n",
       "      <td>3641159</td>\n",
       "    </tr>\n",
       "    <tr>\n",
       "      <th>패스트푸드점</th>\n",
       "      <td>36906620</td>\n",
       "    </tr>\n",
       "    <tr>\n",
       "      <th>한식</th>\n",
       "      <td>171930458</td>\n",
       "    </tr>\n",
       "  </tbody>\n",
       "</table>\n",
       "</div>"
      ],
      "text/plain": [
       "               sum_ct\n",
       "tco_btc_nm           \n",
       "양식           11012773\n",
       "일식           12947145\n",
       "중식           23211802\n",
       "패밀리레스토랑       3641159\n",
       "패스트푸드점       36906620\n",
       "한식          171930458"
      ]
     },
     "execution_count": 48,
     "metadata": {},
     "output_type": "execute_result"
    }
   ],
   "source": [
    "#업종별 이용건수 합\n",
    "df_tco = df.groupby('tco_btc_nm').agg(sum_ct = ('tco_btc_u_ct', 'sum'))\n",
    "df_tco"
   ]
  },
  {
   "cell_type": "code",
   "execution_count": 56,
   "id": "b5ad4f18",
   "metadata": {},
   "outputs": [
    {
     "data": {
      "image/png": "[encoded data removed]",
      "text/plain": [
       "<Figure size 432x288 with 1 Axes>"
      ]
     },
     "metadata": {
      "needs_background": "light"
     },
     "output_type": "display_data"
    }
   ],
   "source": [
    "plt.ylim([200000,180000000])\n",
    "sns.barplot(x = menu_list, y= df_tco['sum_ct'])\n",
    "plt.show()"
   ]
  },
  {
   "cell_type": "code",
   "execution_count": 11,
   "id": "3869f082",
   "metadata": {},
   "outputs": [],
   "source": [
    "#20대 소비습관 확인\n",
    "df_20 = df[df['agegrp_dc'] == 20]"
   ]
  },
  {
   "cell_type": "code",
   "execution_count": 12,
   "id": "657055db",
   "metadata": {},
   "outputs": [
    {
     "data": {
      "text/plain": [
       "한식         66\n",
       "일식         66\n",
       "중식         66\n",
       "양식         66\n",
       "패스트푸드점     66\n",
       "패밀리레스토랑    66\n",
       "Name: tco_btc_nm, dtype: int64"
      ]
     },
     "execution_count": 12,
     "metadata": {},
     "output_type": "execute_result"
    }
   ],
   "source": [
    "df_20['tco_btc_nm'].value_counts()"
   ]
  },
  {
   "cell_type": "code",
   "execution_count": 13,
   "id": "47507980",
   "metadata": {},
   "outputs": [
    {
     "data": {
      "text/html": [
       "<div>\n",
       "<style scoped>\n",
       "    .dataframe tbody tr th:only-of-type {\n",
       "        vertical-align: middle;\n",
       "    }\n",
       "\n",
       "    .dataframe tbody tr th {\n",
       "        vertical-align: top;\n",
       "    }\n",
       "\n",
       "    .dataframe thead th {\n",
       "        text-align: right;\n",
       "    }\n",
       "</style>\n",
       "<table border=\"1\" class=\"dataframe\">\n",
       "  <thead>\n",
       "    <tr style=\"text-align: right;\">\n",
       "      <th></th>\n",
       "      <th>sum_ct</th>\n",
       "    </tr>\n",
       "    <tr>\n",
       "      <th>tco_btc_nm</th>\n",
       "      <th></th>\n",
       "    </tr>\n",
       "  </thead>\n",
       "  <tbody>\n",
       "    <tr>\n",
       "      <th>양식</th>\n",
       "      <td>1280531</td>\n",
       "    </tr>\n",
       "    <tr>\n",
       "      <th>일식</th>\n",
       "      <td>1335444</td>\n",
       "    </tr>\n",
       "    <tr>\n",
       "      <th>중식</th>\n",
       "      <td>1576365</td>\n",
       "    </tr>\n",
       "    <tr>\n",
       "      <th>패밀리레스토랑</th>\n",
       "      <td>254705</td>\n",
       "    </tr>\n",
       "    <tr>\n",
       "      <th>패스트푸드점</th>\n",
       "      <td>2911081</td>\n",
       "    </tr>\n",
       "    <tr>\n",
       "      <th>한식</th>\n",
       "      <td>11226411</td>\n",
       "    </tr>\n",
       "  </tbody>\n",
       "</table>\n",
       "</div>"
      ],
      "text/plain": [
       "              sum_ct\n",
       "tco_btc_nm          \n",
       "양식           1280531\n",
       "일식           1335444\n",
       "중식           1576365\n",
       "패밀리레스토랑       254705\n",
       "패스트푸드점       2911081\n",
       "한식          11226411"
      ]
     },
     "execution_count": 13,
     "metadata": {},
     "output_type": "execute_result"
    }
   ],
   "source": [
    "#20대 업종별 이용건수\n",
    "df_20_ct = df_20.groupby('tco_btc_nm').agg(sum_ct = ('tco_btc_u_ct', 'sum'))\n",
    "df_20_ct"
   ]
  },
  {
   "cell_type": "code",
   "execution_count": 19,
   "id": "b68ad5f5",
   "metadata": {},
   "outputs": [],
   "source": [
    "plt.rcParams['font.family'] = 'Malgun Gothic'"
   ]
  },
  {
   "cell_type": "code",
   "execution_count": 23,
   "id": "d40e1a4b",
   "metadata": {},
   "outputs": [],
   "source": [
    "a = df_20.groupby('tco_btc_nm').agg(sum_ct = ('tco_btc_u_ct', 'sum'))"
   ]
  },
  {
   "cell_type": "code",
   "execution_count": 39,
   "id": "5cc3cdf7",
   "metadata": {},
   "outputs": [],
   "source": [
    "menu_list= ['양식','일식','중식','패밀리레스토랑','패스트푸드점','한식']"
   ]
  },
  {
   "cell_type": "code",
   "execution_count": 71,
   "id": "8f5f1dfa",
   "metadata": {
    "scrolled": true
   },
   "outputs": [
    {
     "data": {
      "image/png": "[encoded data removed]",
      "text/plain": [
       "<Figure size 720x360 with 1 Axes>"
      ]
     },
     "metadata": {
      "needs_background": "light"
     },
     "output_type": "display_data"
    }
   ],
   "source": [
    "plt.figure(figsize=(10,5))\n",
    "plt.title('20대 업종별 이용건수 합', size = 20)\n",
    "plt.ylim([100000,12000000])\n",
    "sns.barplot(x = menu_list, y= df_20_ct['sum_ct'])\n",
    "plt.show()"
   ]
  },
  {
   "cell_type": "code",
   "execution_count": 43,
   "id": "68e290a7",
   "metadata": {},
   "outputs": [],
   "source": [
    "colors = sns.color_palette('hls',len(menu_list))"
   ]
  },
  {
   "cell_type": "code",
   "execution_count": 69,
   "id": "9fca27aa",
   "metadata": {},
   "outputs": [
    {
     "data": {
      "image/png": "[encoded data removed]",
      "text/plain": [
       "<Figure size 936x576 with 1 Axes>"
      ]
     },
     "metadata": {},
     "output_type": "display_data"
    }
   ],
   "source": [
    "plt.figure(figsize = (13,8))\n",
    "plt.title('20대 업종별 이용건수 합', size = 20)\n",
    "plt.pie(df_20_ct['sum_ct'], labels=menu_list, autopct='%.1f%%',shadow = True, textprops = {'fontsize': 12},colors = colors)\n",
    "plt.show()"
   ]
  },
  {
   "cell_type": "code",
   "execution_count": null,
   "id": "348ffff3",
   "metadata": {},
   "outputs": [],
   "source": []
  }
 ],
 "metadata": {
  "kernelspec": {
   "display_name": "Python 3 (ipykernel)",
   "language": "python",
   "name": "python3"
  },
  "language_info": {
   "codemirror_mode": {
    "name": "ipython",
    "version": 3
   },
   "file_extension": ".py",
   "mimetype": "text/x-python",
   "name": "python",
   "nbconvert_exporter": "python",
   "pygments_lexer": "ipython3",
   "version": "3.9.12"
  }
 },
 "nbformat": 4,
 "nbformat_minor": 5
}
